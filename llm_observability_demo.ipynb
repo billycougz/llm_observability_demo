{
 "cells": [
  {
   "cell_type": "markdown",
   "metadata": {},
   "source": [
    "# LLM Observability Demo\n",
    "This notebook runs a simple `LangGraph` agent that uses custom tools capable of querying the ESPN API for NFL data.\n",
    "\n",
    "The `LangGraph` traces are automatically logged to both the `LangSmith` and `Arize` observability platforms without the need for annotations or any explicit code. Simply set the platform-specific environment variables. From my experience, traces are captured immediately in `LangSmith` and take a few minutes to reflect in `Arize`.\n",
    "\n",
    "This demo uses `OpenAI` but could easily use `Anthropic` by replacing `langchain_openai` with `langchain_anthropic`.\n",
    "\n",
    "References:\n",
    "- [LangSmith / Tracing / LangGraph](https://docs.smith.langchain.com/observability/how_to_guides/tracing/trace_with_langgraph)\n",
    "- [Arize / Tracing Integrations / LangChain](https://docs.arize.com/arize/llm-tracing/tracing-integrations-auto/langchain)"
   ]
  },
  {
   "cell_type": "markdown",
   "metadata": {},
   "source": [
    "## Setup"
   ]
  },
  {
   "cell_type": "markdown",
   "metadata": {},
   "source": [
    "### Install the dependencies"
   ]
  },
  {
   "cell_type": "code",
   "execution_count": null,
   "metadata": {},
   "outputs": [],
   "source": [
    "# Install the Langchain stack\n",
    "%pip install -qq -U langgraph langsmith langchain_openai\n",
    "\n",
    "# Install the Arize dependencies\n",
    "%pip install -qq -U arize-otel openinference-instrumentation-langchain\n",
    "\n",
    "# Install dotenv to manage env variables\n",
    "%pip install -qq python-dotenv"
   ]
  },
  {
   "cell_type": "markdown",
   "metadata": {},
   "source": [
    "### Set the environment variables\n",
    "The following environment variables are required and loaded from a `.env` file:\n",
    "\n",
    "- OPENAI_API_KEY\n",
    "- LANGCHAIN_TRACING_V2\n",
    "- LANGCHAIN_ENDPOINT\n",
    "- LANGCHAIN_API_KEY\n",
    "- LANGCHAIN_PROJECT\n",
    "- ARIZE_API_KEY\n",
    "- ARIZE_SPACE_ID\n",
    "- ARIZE_PROJECT_NAME"
   ]
  },
  {
   "cell_type": "code",
   "execution_count": null,
   "metadata": {},
   "outputs": [],
   "source": [
    "import os\n",
    "\n",
    "from dotenv import load_dotenv\n",
    "\n",
    "load_dotenv()"
   ]
  },
  {
   "cell_type": "markdown",
   "metadata": {},
   "source": [
    "### Configure Arize with OpenTelemetry\n",
    "While `LangSmith` integrates with `LangGraph` natively (i.e., simply requires the environment variables to be set), `Arize` requires this addditional setup step."
   ]
  },
  {
   "cell_type": "code",
   "execution_count": null,
   "metadata": {},
   "outputs": [],
   "source": [
    "# Import open-telemetry dependencies\n",
    "from arize.otel import register\n",
    "\n",
    "# Setup OTEL via our convenience function\n",
    "tracer_provider = register(\n",
    "    space_id = os.getenv('ARIZE_SPACE_ID'), # in app space settings page\n",
    "    api_key = os.getenv('ARIZE_API_KEY'), # in app space settings page\n",
    "    project_name = os.getenv('ARIZE_PROJECT_NAME'), # name this to whatever you would like\n",
    ")\n",
    "\n",
    "# Import the automatic instrumentor from OpenInference\n",
    "from openinference.instrumentation.langchain import LangChainInstrumentor\n",
    "\n",
    "# Finish automatic instrumentation\n",
    "LangChainInstrumentor().instrument(tracer_provider=tracer_provider)"
   ]
  },
  {
   "cell_type": "markdown",
   "metadata": {},
   "source": [
    "## Main: ESPN NFL Stats Agent"
   ]
  },
  {
   "cell_type": "markdown",
   "metadata": {},
   "source": [
    "### Build the agent"
   ]
  },
  {
   "cell_type": "code",
   "execution_count": 4,
   "metadata": {},
   "outputs": [],
   "source": [
    "from typing import Annotated\n",
    "from typing_extensions import TypedDict\n",
    "\n",
    "from langchain_openai import ChatOpenAI\n",
    "from langgraph.checkpoint.memory import MemorySaver\n",
    "from langgraph.graph import StateGraph\n",
    "from langgraph.graph.message import add_messages\n",
    "from langgraph.prebuilt import ToolNode, tools_condition\n",
    "from langgraph.checkpoint.memory import MemorySaver\n",
    "\n",
    "from espn_tools import get_player_id, get_player_stats, get_team_id, get_team_players, get_nfl_team_stats, get_recent_game_stats\n",
    "\n",
    "tools = [get_player_id, get_player_stats, get_team_id, get_team_players, get_nfl_team_stats, get_recent_game_stats]\n",
    "llm = ChatOpenAI(model=\"gpt-4o\")\n",
    "llm_with_tools = llm.bind_tools(tools)\n",
    "\n",
    "class State(TypedDict):\n",
    "    messages: Annotated[list, add_messages]\n",
    "\n",
    "graph_builder = StateGraph(State)\n",
    "\n",
    "def chatbot(state: State):\n",
    "    return {\"messages\": [llm_with_tools.invoke(state[\"messages\"])]}\n",
    "\n",
    "graph_builder.add_node(\"chatbot\", chatbot)\n",
    "\n",
    "tool_node = ToolNode(tools=tools)\n",
    "graph_builder.add_node(\"tools\", tool_node)\n",
    "\n",
    "graph_builder.add_conditional_edges(\"chatbot\", tools_condition)\n",
    "graph_builder.add_edge(\"tools\", \"chatbot\")\n",
    "graph_builder.set_entry_point(\"chatbot\")\n",
    "\n",
    "memory = MemorySaver()\n",
    "graph = graph_builder.compile(checkpointer=memory)"
   ]
  },
  {
   "cell_type": "markdown",
   "metadata": {},
   "source": [
    "### Run the agent"
   ]
  },
  {
   "cell_type": "code",
   "execution_count": null,
   "metadata": {},
   "outputs": [],
   "source": [
    "user_input = \"How many touchdowns did Josh Allen of the Buffalo Bills average per game this season?\"\n",
    "\n",
    "config = {\"configurable\": {\"thread_id\": \"JOSH-ALLEN-TDS\"}}\n",
    "\n",
    "events = graph.stream({\"messages\": [(\"user\", user_input)]}, config, stream_mode=\"values\")\n",
    "\n",
    "for event in events:\n",
    "    if \"messages\" in event:\n",
    "        event[\"messages\"][-1].pretty_print()"
   ]
  }
 ],
 "metadata": {
  "kernelspec": {
   "display_name": "venv",
   "language": "python",
   "name": "python3"
  },
  "language_info": {
   "codemirror_mode": {
    "name": "ipython",
    "version": 3
   },
   "file_extension": ".py",
   "mimetype": "text/x-python",
   "name": "python",
   "nbconvert_exporter": "python",
   "pygments_lexer": "ipython3",
   "version": "3.9.6"
  }
 },
 "nbformat": 4,
 "nbformat_minor": 2
}
